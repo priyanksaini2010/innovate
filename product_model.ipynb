{
 "cells": [
  {
   "cell_type": "code",
   "execution_count": 47,
   "metadata": {
    "collapsed": true
   },
   "outputs": [],
   "source": [
    "import boto3, re, sys, math, json, os, sagemaker, urllib.request\n",
    "import numpy as np\n",
    "import pandas as pd\n",
    "import matplotlib.pyplot as plt\n",
    "from IPython.display import Image\n",
    "from IPython.display import display\n",
    "from time import gmtime, strftime\n",
    "\n",
    "#Model Selection/Assessment Packages\n",
    "from sklearn.metrics import precision_score, recall_score, f1_score, roc_auc_score, accuracy_score\n",
    "from sklearn.metrics import classification_report, precision_recall_curve, confusion_matrix, auc"
   ]
  },
  {
   "cell_type": "code",
   "execution_count": 48,
   "outputs": [
    {
     "name": "stdout",
     "output_type": "stream",
     "text": [
      "Success: downloaded bank_clean.csv.\n"
     ]
    }
   ],
   "source": [
    "try:\n",
    "  urllib.request.urlretrieve (\"https://d1.awsstatic.com/tmt/build-train-deploy-machine-learning-model-sagemaker/bank_clean.27f01fbbdf43271788427f3682996ae29ceca05d.csv\", \"bank_clean.csv\")\n",
    "  print('Success: downloaded bank_clean.csv.')\n",
    "except Exception as e:\n",
    "  print('Data load error: ',e)"
   ],
   "metadata": {
    "collapsed": false,
    "pycharm": {
     "name": "#%%\n"
    }
   }
  },
  {
   "cell_type": "code",
   "execution_count": 49,
   "outputs": [
    {
     "name": "stdout",
     "output_type": "stream",
     "text": [
      "<class 'pandas.core.frame.DataFrame'>\n",
      "RangeIndex: 41188 entries, 0 to 41187\n",
      "Data columns (total 62 columns):\n",
      " #   Column                         Non-Null Count  Dtype\n",
      "---  ------                         --------------  -----\n",
      " 0   Unnamed: 0                     41188 non-null  int64\n",
      " 1   age                            41188 non-null  int64\n",
      " 2   campaign                       41188 non-null  int64\n",
      " 3   pdays                          41188 non-null  int64\n",
      " 4   previous                       41188 non-null  int64\n",
      " 5   no_previous_contact            41188 non-null  int64\n",
      " 6   not_working                    41188 non-null  int64\n",
      " 7   job_admin.                     41188 non-null  int64\n",
      " 8   job_blue-collar                41188 non-null  int64\n",
      " 9   job_entrepreneur               41188 non-null  int64\n",
      " 10  job_housemaid                  41188 non-null  int64\n",
      " 11  job_management                 41188 non-null  int64\n",
      " 12  job_retired                    41188 non-null  int64\n",
      " 13  job_self-employed              41188 non-null  int64\n",
      " 14  job_services                   41188 non-null  int64\n",
      " 15  job_student                    41188 non-null  int64\n",
      " 16  job_technician                 41188 non-null  int64\n",
      " 17  job_unemployed                 41188 non-null  int64\n",
      " 18  job_unknown                    41188 non-null  int64\n",
      " 19  marital_divorced               41188 non-null  int64\n",
      " 20  marital_married                41188 non-null  int64\n",
      " 21  marital_single                 41188 non-null  int64\n",
      " 22  marital_unknown                41188 non-null  int64\n",
      " 23  education_basic.4y             41188 non-null  int64\n",
      " 24  education_basic.6y             41188 non-null  int64\n",
      " 25  education_basic.9y             41188 non-null  int64\n",
      " 26  education_high.school          41188 non-null  int64\n",
      " 27  education_illiterate           41188 non-null  int64\n",
      " 28  education_professional.course  41188 non-null  int64\n",
      " 29  education_university.degree    41188 non-null  int64\n",
      " 30  education_unknown              41188 non-null  int64\n",
      " 31  default_no                     41188 non-null  int64\n",
      " 32  default_unknown                41188 non-null  int64\n",
      " 33  default_yes                    41188 non-null  int64\n",
      " 34  housing_no                     41188 non-null  int64\n",
      " 35  housing_unknown                41188 non-null  int64\n",
      " 36  housing_yes                    41188 non-null  int64\n",
      " 37  loan_no                        41188 non-null  int64\n",
      " 38  loan_unknown                   41188 non-null  int64\n",
      " 39  loan_yes                       41188 non-null  int64\n",
      " 40  contact_cellular               41188 non-null  int64\n",
      " 41  contact_telephone              41188 non-null  int64\n",
      " 42  month_apr                      41188 non-null  int64\n",
      " 43  month_aug                      41188 non-null  int64\n",
      " 44  month_dec                      41188 non-null  int64\n",
      " 45  month_jul                      41188 non-null  int64\n",
      " 46  month_jun                      41188 non-null  int64\n",
      " 47  month_mar                      41188 non-null  int64\n",
      " 48  month_may                      41188 non-null  int64\n",
      " 49  month_nov                      41188 non-null  int64\n",
      " 50  month_oct                      41188 non-null  int64\n",
      " 51  month_sep                      41188 non-null  int64\n",
      " 52  day_of_week_fri                41188 non-null  int64\n",
      " 53  day_of_week_mon                41188 non-null  int64\n",
      " 54  day_of_week_thu                41188 non-null  int64\n",
      " 55  day_of_week_tue                41188 non-null  int64\n",
      " 56  day_of_week_wed                41188 non-null  int64\n",
      " 57  poutcome_failure               41188 non-null  int64\n",
      " 58  poutcome_nonexistent           41188 non-null  int64\n",
      " 59  poutcome_success               41188 non-null  int64\n",
      " 60  y_no                           41188 non-null  int64\n",
      " 61  y_yes                          41188 non-null  int64\n",
      "dtypes: int64(62)\n",
      "memory usage: 19.5 MB\n"
     ]
    }
   ],
   "source": [
    "df = pd.read_csv('bank_clean.csv')\n",
    "df.info()\n",
    "train = df\n",
    "# train['job_student'] = ((train['job_student'] - train['job_student'].mean())/(train['job_student'].std()))\n",
    "# train['job_technician'] = ((train['job_technician'] - train['job_technician'].mean())/(train['job_technician'].std()))\n",
    "# train['job_unemployed'] = ((train['job_unemployed'] - train['job_unemployed'].mean())/(train['job_unemployed'].std()))\n",
    "# train['job_unknown'] = ((train['job_unknown'] - train['job_unknown'].mean())/(train['job_unknown'].std()))\n",
    "# train['marital_divorced'] = ((train['marital_divorced'] - train['marital_divorced'].mean())/(train['marital_divorced'].std()))\n",
    "# train['marital_single'] = ((train['marital_single'] - train['marital_single'].mean())/(train['marital_single'].std()))\n",
    "# train['marital_unknown'] = ((train['marital_unknown'] - train['marital_unknown'].mean())/(train['marital_unknown'].std()))\n",
    "# train['education_basic.4y'] = ((train['education_basic.4y'] - train['education_basic.4y'].mean())/(train['education_basic.4y'].std()))\n",
    "# train['education_basic.6y'] = ((train['education_basic.6y'] - train['education_basic.6y'].mean())/(train['education_basic.6y'].std()))\n",
    "# train['education_basic.9y'] = ((train['education_basic.9y'] - train['education_basic.9y'].mean())/(train['education_basic.9y'].std()))\n",
    "# train['education_high.school'] = ((train['education_high.school'] - train['education_high.school'].mean())/(train['education_high.school'].std()))\n",
    "# train['education_illiterate'] = ((train['education_illiterate'] - train['education_illiterate'].mean())/(train['education_illiterate'].std()))\n",
    "# train['education_professional.course'] = ((train['education_professional.course'] - train['education_professional.course'].mean())/(train['education_professional.course'].std()))\n",
    "# train['education_university.degree'] = ((train['education_university.degree'] - train['education_university.degree'].mean())/(train['education_university.degree'].std()))\n",
    "# train['education_unknown'] = ((train['education_unknown'] - train['education_unknown'].mean())/(train['education_unknown'].std()))\n",
    "# train['default_no'] = ((train['default_no'] - train['default_no'].mean())/(train['default_no'].std()))\n",
    "# train['default_unknown'] = ((train['default_unknown'] - train['default_unknown'].mean())/(train['default_unknown'].std()))\n",
    "# train['default_yes'] = ((train['default_yes'] - train['default_yes'].mean())/(train['default_yes'].std()))\n",
    "# train['housing_no'] = ((train['housing_no'] - train['housing_no'].mean())/(train['housing_no'].std()))\n",
    "# train['housing_unknown'] = ((train['housing_unknown'] - train['housing_unknown'].mean())/(train['housing_unknown'].std()))\n",
    "#\n",
    "#\n",
    "#\n",
    "#"
   ],
   "metadata": {
    "collapsed": false,
    "pycharm": {
     "name": "#%%\n"
    }
   }
  },
  {
   "cell_type": "code",
   "execution_count": 50,
   "outputs": [],
   "source": [
    "# train['job_services'] = ((train['job_services'] - train['job_services'].mean())/(train['job_services'].std()))\n",
    "#\n",
    "# train['age'] = ((train['age'] - train['age'].mean())/(train['age'].std()))\n",
    "# train['campaign'] = ((train['campaign'] - train['campaign'].mean())/(train['campaign'].std()))\n",
    "# train['pdays'] = ((train['pdays'] - train['pdays'].mean())/(train['pdays'].std()))\n",
    "# train['previous'] = ((train['previous'] - train['previous'].mean())/(train['previous'].std()))\n",
    "# train['no_previous_contact'] = ((train['no_previous_contact'] - train['no_previous_contact'].mean())/(train['no_previous_contact'].std()))\n",
    "# train['not_working'] = ((train['not_working'] - train['not_working'].mean())/(train['not_working'].std()))\n",
    "# train['job_admin'] = ((train['job_admin'] - train['job_admin'].mean())/(train['job_admin'].std()))\n",
    "# train['job_blue-collar'] = ((train['job_blue-collar'] - train['job_blue-collar'].mean())/(train['job_blue-collar'].std()))\n",
    "# train['job_entrepreneur'] = ((train['job_entrepreneur'] - train['job_entrepreneur'].mean())/(train['job_entrepreneur'].std()))\n",
    "# train['job_housemaid'] = ((train['job_housemaid'] - train['job_housemaid'].mean())/(train['job_housemaid'].std()))\n",
    "# train['job_management'] = ((train['job_management'] - train['job_management'].mean())/(train['job_management'].std()))\n",
    "# train['job_retired'] = ((train['job_retired'] - train['job_retired'].mean())/(train['job_retired'].std()))\n",
    "# train['job_self-employed'] = ((train['job_self-employed'] - train['job_self-employed'].mean())/(train['job_self-employed'].std()))"
   ],
   "metadata": {
    "collapsed": false,
    "pycharm": {
     "name": "#%%\n"
    }
   }
  },
  {
   "cell_type": "code",
   "execution_count": 51,
   "outputs": [],
   "source": [
    "from imblearn.over_sampling import SMOTE\n",
    "\n",
    "train_data, test_data = np.split(train.sample(frac=1, random_state=1729), [int(0.7 * len(train))])"
   ],
   "metadata": {
    "collapsed": false,
    "pycharm": {
     "name": "#%%\n"
    }
   }
  },
  {
   "cell_type": "code",
   "execution_count": 52,
   "outputs": [],
   "source": [
    "y_train = train_data['y_yes']\n",
    "y_test = test_data['y_yes']\n",
    "X_train = pd.concat([train_data['y_yes'], train_data.drop(['y_no', 'y_yes'], axis=1)], axis=1)\n",
    "X_test = pd.concat([test_data['y_yes'], test_data.drop(['y_no', 'y_yes'], axis=1)], axis=1)\n",
    "\n"
   ],
   "metadata": {
    "collapsed": false,
    "pycharm": {
     "name": "#%%\n"
    }
   }
  },
  {
   "cell_type": "code",
   "execution_count": 53,
   "outputs": [],
   "source": [
    "\n",
    "os = SMOTE(random_state=0)\n"
   ],
   "metadata": {
    "collapsed": false,
    "pycharm": {
     "name": "#%%\n"
    }
   }
  },
  {
   "cell_type": "code",
   "execution_count": 54,
   "outputs": [],
   "source": [
    "from sklearn.linear_model import LogisticRegression\n",
    "\n",
    "classifiers = {\n",
    "    \"Logisitic Regression Classifier\": LogisticRegression(n_jobs=3,random_state=0)\n",
    "}"
   ],
   "metadata": {
    "collapsed": false,
    "pycharm": {
     "name": "#%%\n"
    }
   }
  },
  {
   "cell_type": "code",
   "execution_count": 55,
   "outputs": [],
   "source": [
    "class color:\n",
    "   PURPLE = '\\033[95m'\n",
    "   CYAN = '\\033[96m'\n",
    "   DARKCYAN = '\\033[36m'\n",
    "   BLUE = '\\033[94m'\n",
    "   GREEN = '\\033[92m'\n",
    "   YELLOW = '\\033[93m'\n",
    "   RED = '\\033[91m'\n",
    "   BOLD = '\\033[1m'\n",
    "   UNDERLINE = '\\033[4m'\n",
    "   END = '\\033[0m'"
   ],
   "metadata": {
    "collapsed": false,
    "pycharm": {
     "name": "#%%\n"
    }
   }
  },
  {
   "cell_type": "code",
   "execution_count": 56,
   "outputs": [
    {
     "name": "stderr",
     "output_type": "stream",
     "text": [
      "<ipython-input-56-5846ce4b68a2>:25: DataConversionWarning: A column-vector y was passed when a 1d array was expected. Please change the shape of y to (n_samples, ), for example using ravel().\n",
      "  knn.fit(os_train_data_X, os_train_data_y)\n"
     ]
    }
   ],
   "source": [
    "from imblearn.over_sampling import SMOTE\n",
    "train_data = train_data.dropna(axis = 0, how ='any')\n",
    "test_data = test_data.dropna(axis = 0, how ='any')\n",
    "\n",
    "y_train = train_data['y_yes']\n",
    "y_test = test_data['y_yes']\n",
    "X_train = train_data.drop(['y_yes'], axis=1)\n",
    "X_test = test_data.drop(['y_yes'], axis=1)\n",
    "\n",
    "\n",
    "os = SMOTE(random_state=0)\n",
    "\n",
    "columns = X_train.columns\n",
    "\n",
    "os_train_data_X, os_train_data_y = os.fit_sample(X_train, y_train)\n",
    "os_train_data_X = pd.DataFrame(data=os_train_data_X, columns=columns )\n",
    "os_train_data_y = pd.DataFrame(data=os_train_data_y, columns=['y_yes'])\n",
    "\n",
    "from sklearn.neighbors import KNeighborsClassifier\n",
    "knn = KNeighborsClassifier(algorithm='auto', leaf_size=30, metric='minkowski',\n",
    "           metric_params=None, n_jobs=3, n_neighbors=3, p=2,\n",
    "           weights='uniform')\n",
    "\n",
    "\n",
    "knn.fit(os_train_data_X, os_train_data_y)\n",
    "\n",
    "y_score = knn.predict(X_test)"
   ],
   "metadata": {
    "collapsed": false,
    "pycharm": {
     "name": "#%%\n"
    }
   }
  },
  {
   "cell_type": "code",
   "execution_count": 57,
   "outputs": [
    {
     "name": "stdout",
     "output_type": "stream",
     "text": [
      "=============================================================================================================================\n",
      "\u001B[1m\u001B[4mKNN Classifier\u001B[0m \n",
      "\n",
      "\u001B[1mConfusion Matrix: \n",
      "\u001B[0m\n",
      "[[8371 2565]\n",
      " [ 576  845]] \n",
      "\n",
      "              precision    recall  f1-score   support\n",
      "\n",
      "           0       0.94      0.77      0.84     10936\n",
      "           1       0.25      0.59      0.35      1421\n",
      "\n",
      "    accuracy                           0.75     12357\n",
      "   macro avg       0.59      0.68      0.60     12357\n",
      "weighted avg       0.86      0.75      0.79     12357\n",
      " \n",
      "\n",
      "\u001B[1mAccuracy: 0.746\n",
      "Recall: 0.595\n",
      "Precision: 0.248\u001B[0m\n",
      "============================================================================================================================= \n",
      "\n",
      "\n"
     ]
    }
   ],
   "source": [
    "print(\"=\"*125)\n",
    "print(color.BOLD + color.UNDERLINE + 'KNN Classifier' + color.END, \"\\n\")\n",
    "print(color.BOLD + \"Confusion Matrix: \\n\" + color.END)\n",
    "print(confusion_matrix(y_test, y_score), \"\\n\" )\n",
    "print(classification_report(y_test, y_score), \"\\n\")\n",
    "acc = round(accuracy_score(y_test, y_score), 3)\n",
    "rec = round(recall_score(y_test, y_score), 3)\n",
    "prec = round(precision_score(y_test, y_score), 3)\n",
    "print(color.BOLD + f'Accuracy: {acc}')\n",
    "print(f'Recall: {rec}')\n",
    "print(f'Precision: {prec}' + color.END)\n",
    "print(\"=\"*125, '\\n\\n')"
   ],
   "metadata": {
    "collapsed": false,
    "pycharm": {
     "name": "#%%\n"
    }
   }
  },
  {
   "cell_type": "code",
   "execution_count": 58,
   "outputs": [
    {
     "data": {
      "text/plain": "['product_model_columns.pkl']"
     },
     "execution_count": 58,
     "metadata": {},
     "output_type": "execute_result"
    }
   ],
   "source": [
    "import joblib\n",
    "\n",
    "joblib.dump(knn,'product_model.pkl')\n",
    "\n",
    "xg = joblib.load('product_model.pkl')\n",
    "\n",
    "model_columns =  list(X_train.columns)\n",
    "\n",
    "joblib.dump(model_columns, 'product_model_columns.pkl')"
   ],
   "metadata": {
    "collapsed": false,
    "pycharm": {
     "name": "#%%\n"
    }
   }
  }
 ],
 "metadata": {
  "kernelspec": {
   "display_name": "Python 3",
   "language": "python",
   "name": "python3"
  },
  "language_info": {
   "codemirror_mode": {
    "name": "ipython",
    "version": 2
   },
   "file_extension": ".py",
   "mimetype": "text/x-python",
   "name": "python",
   "nbconvert_exporter": "python",
   "pygments_lexer": "ipython2",
   "version": "2.7.6"
  }
 },
 "nbformat": 4,
 "nbformat_minor": 0
}