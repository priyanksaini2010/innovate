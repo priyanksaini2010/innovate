{
 "cells": [
  {
   "cell_type": "code",
   "execution_count": 58,
   "metadata": {
    "collapsed": true
   },
   "outputs": [],
   "source": [
    "import numpy as np\n",
    "import pandas as pd"
   ]
  },
  {
   "cell_type": "code",
   "execution_count": 59,
   "outputs": [],
   "source": [
    "pd.set_option('display.max_columns', 500)\n",
    "pd.set_option('display.max_rows',500)"
   ],
   "metadata": {
    "collapsed": false,
    "pycharm": {
     "name": "#%%\n"
    }
   }
  },
  {
   "cell_type": "code",
   "execution_count": 60,
   "outputs": [],
   "source": [
    "df = pd.read_csv(\"credit_train.csv\")"
   ],
   "metadata": {
    "collapsed": false,
    "pycharm": {
     "name": "#%%\n"
    }
   }
  },
  {
   "cell_type": "code",
   "execution_count": 61,
   "outputs": [
    {
     "name": "stdout",
     "output_type": "stream",
     "text": [
      "<class 'pandas.core.frame.DataFrame'>\n",
      "RangeIndex: 100514 entries, 0 to 100513\n",
      "Data columns (total 19 columns):\n",
      " #   Column                        Non-Null Count   Dtype  \n",
      "---  ------                        --------------   -----  \n",
      " 0   Loan ID                       100000 non-null  object \n",
      " 1   Customer ID                   100000 non-null  object \n",
      " 2   Loan Status                   100000 non-null  object \n",
      " 3   Current Loan Amount           100000 non-null  float64\n",
      " 4   Term                          100000 non-null  object \n",
      " 5   Credit Score                  80846 non-null   float64\n",
      " 6   Annual Income                 80846 non-null   float64\n",
      " 7   Years in current job          95778 non-null   object \n",
      " 8   Home Ownership                100000 non-null  object \n",
      " 9   Purpose                       100000 non-null  object \n",
      " 10  Monthly Debt                  100000 non-null  float64\n",
      " 11  Years of Credit History       100000 non-null  float64\n",
      " 12  Months since last delinquent  46859 non-null   float64\n",
      " 13  Number of Open Accounts       100000 non-null  float64\n",
      " 14  Number of Credit Problems     100000 non-null  float64\n",
      " 15  Current Credit Balance        100000 non-null  float64\n",
      " 16  Maximum Open Credit           99998 non-null   float64\n",
      " 17  Bankruptcies                  99796 non-null   float64\n",
      " 18  Tax Liens                     99990 non-null   float64\n",
      "dtypes: float64(12), object(7)\n",
      "memory usage: 14.6+ MB\n"
     ]
    }
   ],
   "source": [
    "df.info()\n"
   ],
   "metadata": {
    "collapsed": false,
    "pycharm": {
     "name": "#%%\n"
    }
   }
  },
  {
   "cell_type": "code",
   "execution_count": 62,
   "outputs": [],
   "source": [
    "df['Credit Score'].fillna(df['Credit Score'].median(),inplace=True)\n",
    "df['Annual Income'].fillna(df['Annual Income'].median(),inplace=True)\n",
    "df['Current Loan Amount'].fillna(df['Current Loan Amount'].median(),inplace=True)\n",
    "df['Months since last delinquent'].fillna(df['Months since last delinquent'].median(),inplace=True)\n",
    "df['Bankruptcies'].fillna(df['Bankruptcies'].median(),inplace=True)\n",
    "df['Years in current job'].fillna('0 Years',inplace=True)\n",
    "df['Tax Liens'].fillna(df['Tax Liens'].median(),inplace=True)\n",
    "df['Maximum Open Credit'].fillna(df['Maximum Open Credit'].median(),inplace=True)\n",
    "df['Current Credit Balance'].fillna(df['Current Credit Balance'].median(),inplace=True)\n",
    "df['Number of Credit Problems'].fillna(df['Number of Credit Problems'].median(),inplace=True)\n",
    "df['Number of Open Accounts'].fillna(df['Number of Open Accounts'].median(),inplace=True)\n",
    "df['Number of Open Accounts'].fillna(df['Number of Open Accounts'].median(),inplace=True)\n",
    "mask = df['Loan Status'] ==  'Fully Paid'\n",
    "column_name = 'Loan Status'\n",
    "df.loc[mask, column_name] = 1\n",
    "mask_charged_off = df['Loan Status'] ==  'Charged Off'\n",
    "column_name = 'Loan Status'\n",
    "df.loc[mask_charged_off, column_name] = 0"
   ],
   "metadata": {
    "collapsed": false,
    "pycharm": {
     "name": "#%%\n"
    }
   }
  },
  {
   "cell_type": "code",
   "execution_count": 63,
   "outputs": [
    {
     "data": {
      "text/plain": "Loan ID                         514\nCustomer ID                     514\nLoan Status                     514\nCurrent Loan Amount               0\nTerm                            514\nCredit Score                      0\nAnnual Income                     0\nYears in current job              0\nHome Ownership                  514\nPurpose                         514\nMonthly Debt                    514\nYears of Credit History         514\nMonths since last delinquent      0\nNumber of Open Accounts           0\nNumber of Credit Problems         0\nCurrent Credit Balance            0\nMaximum Open Credit               0\nBankruptcies                      0\nTax Liens                         0\ndtype: int64"
     },
     "execution_count": 63,
     "metadata": {},
     "output_type": "execute_result"
    }
   ],
   "source": [
    "df.isnull().sum()"
   ],
   "metadata": {
    "collapsed": false,
    "pycharm": {
     "name": "#%%\n"
    }
   }
  },
  {
   "cell_type": "code",
   "execution_count": 64,
   "outputs": [
    {
     "data": {
      "text/plain": "                                    Loan ID  \\\n0      14dd8831-6af5-400b-83ec-68e61888a048   \n1      4771cc26-131a-45db-b5aa-537ea4ba5342   \n2      4eed4e6a-aa2f-4c91-8651-ce984ee8fb26   \n3      77598f7b-32e7-4e3b-a6e5-06ba0d98fe8a   \n4      d4062e70-befa-4995-8643-a0de73938182   \n...                                     ...   \n99995  3f94c18c-ba8f-45d0-8610-88a684a410a9   \n99996  06eba04f-58fc-424a-b666-ed72aa008900   \n99997  e1cb4050-eff5-4bdb-a1b0-aabd3f7eaac7   \n99998  81ab928b-d1a5-4523-9a3c-271ebb01b4fb   \n99999  c63916c6-6d46-47a9-949a-51d09af4414f   \n\n                                Customer ID Loan Status  Current Loan Amount  \\\n0      981165ec-3274-42f5-a3b4-d104041a9ca9           1             445412.0   \n1      2de017a3-2e01-49cb-a581-08169e83be29           1             262328.0   \n2      5efb2b2b-bf11-4dfd-a572-3761a2694725           1           99999999.0   \n3      e777faab-98ae-45af-9a86-7ce5b33b1011           1             347666.0   \n4      81536ad9-5ccf-4eb8-befb-47a4d608658e           1             176220.0   \n...                                     ...         ...                  ...   \n99995  2da51983-cfef-4b8f-a733-5dfaf69e9281           1             147070.0   \n99996  77f2252a-b7d1-4b07-a746-1202a8304290           1           99999999.0   \n99997  2ced5f10-bd60-4a11-9134-cadce4e7b0a3           1             103136.0   \n99998  3e45ffda-99fd-4cfc-b8b8-446f4a505f36           1             530332.0   \n99999  1b3014be-5c07-4d41-abe7-44573c375886           1           99999999.0   \n\n             Term  Credit Score  Annual Income Years in current job  \\\n0      Short Term         709.0      1167493.0              8 years   \n1      Short Term         724.0      1174162.0            10+ years   \n2      Short Term         741.0      2231892.0              8 years   \n3       Long Term         721.0       806949.0              3 years   \n4      Short Term         724.0      1174162.0              5 years   \n...           ...           ...            ...                  ...   \n99995  Short Term         725.0       475437.0              7 years   \n99996  Short Term         732.0      1289416.0               1 year   \n99997  Short Term         742.0      1150545.0              6 years   \n99998  Short Term         746.0      1717524.0              9 years   \n99999  Short Term         743.0       935180.0              0 Years   \n\n      Home Ownership             Purpose  Monthly Debt  \\\n0      Home Mortgage   Home Improvements       5214.74   \n1      Home Mortgage  Debt Consolidation      33295.98   \n2           Own Home  Debt Consolidation      29200.53   \n3           Own Home  Debt Consolidation       8741.90   \n4               Rent  Debt Consolidation      20639.70   \n...              ...                 ...           ...   \n99995       Own Home               other       2202.86   \n99996           Rent  Debt Consolidation      13109.05   \n99997           Rent  Debt Consolidation       7315.57   \n99998           Rent  Debt Consolidation       9890.07   \n99999       Own Home  Debt Consolidation       9118.10   \n\n       Years of Credit History  Months since last delinquent  \\\n0                         17.2                          32.0   \n1                         21.1                           8.0   \n2                         14.9                          29.0   \n3                         12.0                          32.0   \n4                          6.1                          32.0   \n...                        ...                           ...   \n99995                     22.3                          32.0   \n99996                      9.4                          21.0   \n99997                     18.8                          18.0   \n99998                     15.0                          32.0   \n99999                     13.0                          32.0   \n\n       Number of Open Accounts  Number of Credit Problems  \\\n0                          6.0                        1.0   \n1                         35.0                        0.0   \n2                         18.0                        1.0   \n3                          9.0                        0.0   \n4                         15.0                        0.0   \n...                        ...                        ...   \n99995                      5.0                        0.0   \n99996                     22.0                        0.0   \n99997                     12.0                        1.0   \n99998                      8.0                        0.0   \n99999                      4.0                        1.0   \n\n       Current Credit Balance  Maximum Open Credit  Bankruptcies  Tax Liens  \n0                    228190.0             416746.0           1.0        0.0  \n1                    229976.0             850784.0           0.0        0.0  \n2                    297996.0             750090.0           0.0        0.0  \n3                    256329.0             386958.0           0.0        0.0  \n4                    253460.0             427174.0           0.0        0.0  \n...                       ...                  ...           ...        ...  \n99995                 47766.0             658548.0           0.0        0.0  \n99996                153045.0             509234.0           0.0        0.0  \n99997                109554.0             537548.0           1.0        0.0  \n99998                404225.0             738254.0           0.0        0.0  \n99999                 45600.0              91014.0           1.0        0.0  \n\n[100000 rows x 19 columns]",
      "text/html": "<div>\n<style scoped>\n    .dataframe tbody tr th:only-of-type {\n        vertical-align: middle;\n    }\n\n    .dataframe tbody tr th {\n        vertical-align: top;\n    }\n\n    .dataframe thead th {\n        text-align: right;\n    }\n</style>\n<table border=\"1\" class=\"dataframe\">\n  <thead>\n    <tr style=\"text-align: right;\">\n      <th></th>\n      <th>Loan ID</th>\n      <th>Customer ID</th>\n      <th>Loan Status</th>\n      <th>Current Loan Amount</th>\n      <th>Term</th>\n      <th>Credit Score</th>\n      <th>Annual Income</th>\n      <th>Years in current job</th>\n      <th>Home Ownership</th>\n      <th>Purpose</th>\n      <th>Monthly Debt</th>\n      <th>Years of Credit History</th>\n      <th>Months since last delinquent</th>\n      <th>Number of Open Accounts</th>\n      <th>Number of Credit Problems</th>\n      <th>Current Credit Balance</th>\n      <th>Maximum Open Credit</th>\n      <th>Bankruptcies</th>\n      <th>Tax Liens</th>\n    </tr>\n  </thead>\n  <tbody>\n    <tr>\n      <th>0</th>\n      <td>14dd8831-6af5-400b-83ec-68e61888a048</td>\n      <td>981165ec-3274-42f5-a3b4-d104041a9ca9</td>\n      <td>1</td>\n      <td>445412.0</td>\n      <td>Short Term</td>\n      <td>709.0</td>\n      <td>1167493.0</td>\n      <td>8 years</td>\n      <td>Home Mortgage</td>\n      <td>Home Improvements</td>\n      <td>5214.74</td>\n      <td>17.2</td>\n      <td>32.0</td>\n      <td>6.0</td>\n      <td>1.0</td>\n      <td>228190.0</td>\n      <td>416746.0</td>\n      <td>1.0</td>\n      <td>0.0</td>\n    </tr>\n    <tr>\n      <th>1</th>\n      <td>4771cc26-131a-45db-b5aa-537ea4ba5342</td>\n      <td>2de017a3-2e01-49cb-a581-08169e83be29</td>\n      <td>1</td>\n      <td>262328.0</td>\n      <td>Short Term</td>\n      <td>724.0</td>\n      <td>1174162.0</td>\n      <td>10+ years</td>\n      <td>Home Mortgage</td>\n      <td>Debt Consolidation</td>\n      <td>33295.98</td>\n      <td>21.1</td>\n      <td>8.0</td>\n      <td>35.0</td>\n      <td>0.0</td>\n      <td>229976.0</td>\n      <td>850784.0</td>\n      <td>0.0</td>\n      <td>0.0</td>\n    </tr>\n    <tr>\n      <th>2</th>\n      <td>4eed4e6a-aa2f-4c91-8651-ce984ee8fb26</td>\n      <td>5efb2b2b-bf11-4dfd-a572-3761a2694725</td>\n      <td>1</td>\n      <td>99999999.0</td>\n      <td>Short Term</td>\n      <td>741.0</td>\n      <td>2231892.0</td>\n      <td>8 years</td>\n      <td>Own Home</td>\n      <td>Debt Consolidation</td>\n      <td>29200.53</td>\n      <td>14.9</td>\n      <td>29.0</td>\n      <td>18.0</td>\n      <td>1.0</td>\n      <td>297996.0</td>\n      <td>750090.0</td>\n      <td>0.0</td>\n      <td>0.0</td>\n    </tr>\n    <tr>\n      <th>3</th>\n      <td>77598f7b-32e7-4e3b-a6e5-06ba0d98fe8a</td>\n      <td>e777faab-98ae-45af-9a86-7ce5b33b1011</td>\n      <td>1</td>\n      <td>347666.0</td>\n      <td>Long Term</td>\n      <td>721.0</td>\n      <td>806949.0</td>\n      <td>3 years</td>\n      <td>Own Home</td>\n      <td>Debt Consolidation</td>\n      <td>8741.90</td>\n      <td>12.0</td>\n      <td>32.0</td>\n      <td>9.0</td>\n      <td>0.0</td>\n      <td>256329.0</td>\n      <td>386958.0</td>\n      <td>0.0</td>\n      <td>0.0</td>\n    </tr>\n    <tr>\n      <th>4</th>\n      <td>d4062e70-befa-4995-8643-a0de73938182</td>\n      <td>81536ad9-5ccf-4eb8-befb-47a4d608658e</td>\n      <td>1</td>\n      <td>176220.0</td>\n      <td>Short Term</td>\n      <td>724.0</td>\n      <td>1174162.0</td>\n      <td>5 years</td>\n      <td>Rent</td>\n      <td>Debt Consolidation</td>\n      <td>20639.70</td>\n      <td>6.1</td>\n      <td>32.0</td>\n      <td>15.0</td>\n      <td>0.0</td>\n      <td>253460.0</td>\n      <td>427174.0</td>\n      <td>0.0</td>\n      <td>0.0</td>\n    </tr>\n    <tr>\n      <th>...</th>\n      <td>...</td>\n      <td>...</td>\n      <td>...</td>\n      <td>...</td>\n      <td>...</td>\n      <td>...</td>\n      <td>...</td>\n      <td>...</td>\n      <td>...</td>\n      <td>...</td>\n      <td>...</td>\n      <td>...</td>\n      <td>...</td>\n      <td>...</td>\n      <td>...</td>\n      <td>...</td>\n      <td>...</td>\n      <td>...</td>\n      <td>...</td>\n    </tr>\n    <tr>\n      <th>99995</th>\n      <td>3f94c18c-ba8f-45d0-8610-88a684a410a9</td>\n      <td>2da51983-cfef-4b8f-a733-5dfaf69e9281</td>\n      <td>1</td>\n      <td>147070.0</td>\n      <td>Short Term</td>\n      <td>725.0</td>\n      <td>475437.0</td>\n      <td>7 years</td>\n      <td>Own Home</td>\n      <td>other</td>\n      <td>2202.86</td>\n      <td>22.3</td>\n      <td>32.0</td>\n      <td>5.0</td>\n      <td>0.0</td>\n      <td>47766.0</td>\n      <td>658548.0</td>\n      <td>0.0</td>\n      <td>0.0</td>\n    </tr>\n    <tr>\n      <th>99996</th>\n      <td>06eba04f-58fc-424a-b666-ed72aa008900</td>\n      <td>77f2252a-b7d1-4b07-a746-1202a8304290</td>\n      <td>1</td>\n      <td>99999999.0</td>\n      <td>Short Term</td>\n      <td>732.0</td>\n      <td>1289416.0</td>\n      <td>1 year</td>\n      <td>Rent</td>\n      <td>Debt Consolidation</td>\n      <td>13109.05</td>\n      <td>9.4</td>\n      <td>21.0</td>\n      <td>22.0</td>\n      <td>0.0</td>\n      <td>153045.0</td>\n      <td>509234.0</td>\n      <td>0.0</td>\n      <td>0.0</td>\n    </tr>\n    <tr>\n      <th>99997</th>\n      <td>e1cb4050-eff5-4bdb-a1b0-aabd3f7eaac7</td>\n      <td>2ced5f10-bd60-4a11-9134-cadce4e7b0a3</td>\n      <td>1</td>\n      <td>103136.0</td>\n      <td>Short Term</td>\n      <td>742.0</td>\n      <td>1150545.0</td>\n      <td>6 years</td>\n      <td>Rent</td>\n      <td>Debt Consolidation</td>\n      <td>7315.57</td>\n      <td>18.8</td>\n      <td>18.0</td>\n      <td>12.0</td>\n      <td>1.0</td>\n      <td>109554.0</td>\n      <td>537548.0</td>\n      <td>1.0</td>\n      <td>0.0</td>\n    </tr>\n    <tr>\n      <th>99998</th>\n      <td>81ab928b-d1a5-4523-9a3c-271ebb01b4fb</td>\n      <td>3e45ffda-99fd-4cfc-b8b8-446f4a505f36</td>\n      <td>1</td>\n      <td>530332.0</td>\n      <td>Short Term</td>\n      <td>746.0</td>\n      <td>1717524.0</td>\n      <td>9 years</td>\n      <td>Rent</td>\n      <td>Debt Consolidation</td>\n      <td>9890.07</td>\n      <td>15.0</td>\n      <td>32.0</td>\n      <td>8.0</td>\n      <td>0.0</td>\n      <td>404225.0</td>\n      <td>738254.0</td>\n      <td>0.0</td>\n      <td>0.0</td>\n    </tr>\n    <tr>\n      <th>99999</th>\n      <td>c63916c6-6d46-47a9-949a-51d09af4414f</td>\n      <td>1b3014be-5c07-4d41-abe7-44573c375886</td>\n      <td>1</td>\n      <td>99999999.0</td>\n      <td>Short Term</td>\n      <td>743.0</td>\n      <td>935180.0</td>\n      <td>0 Years</td>\n      <td>Own Home</td>\n      <td>Debt Consolidation</td>\n      <td>9118.10</td>\n      <td>13.0</td>\n      <td>32.0</td>\n      <td>4.0</td>\n      <td>1.0</td>\n      <td>45600.0</td>\n      <td>91014.0</td>\n      <td>1.0</td>\n      <td>0.0</td>\n    </tr>\n  </tbody>\n</table>\n<p>100000 rows × 19 columns</p>\n</div>"
     },
     "execution_count": 64,
     "metadata": {},
     "output_type": "execute_result"
    }
   ],
   "source": [
    "df.dropna()\n"
   ],
   "metadata": {
    "collapsed": false,
    "pycharm": {
     "name": "#%%\n"
    }
   }
  },
  {
   "cell_type": "code",
   "execution_count": 65,
   "outputs": [
    {
     "data": {
      "text/plain": "Loan ID                         514\nCustomer ID                     514\nLoan Status                     514\nCurrent Loan Amount               0\nTerm                            514\nCredit Score                      0\nAnnual Income                     0\nYears in current job              0\nHome Ownership                  514\nPurpose                         514\nMonthly Debt                    514\nYears of Credit History         514\nMonths since last delinquent      0\nNumber of Open Accounts           0\nNumber of Credit Problems         0\nCurrent Credit Balance            0\nMaximum Open Credit               0\nBankruptcies                      0\nTax Liens                         0\ndtype: int64"
     },
     "execution_count": 65,
     "metadata": {},
     "output_type": "execute_result"
    }
   ],
   "source": [
    "df.isnull().sum()"
   ],
   "metadata": {
    "collapsed": false,
    "pycharm": {
     "name": "#%%\n"
    }
   }
  },
  {
   "cell_type": "code",
   "execution_count": 66,
   "outputs": [
    {
     "data": {
      "text/plain": "Loan ID                         514\nCustomer ID                     514\nLoan Status                     514\nCurrent Loan Amount               0\nTerm                            514\nCredit Score                      0\nAnnual Income                     0\nYears in current job              0\nHome Ownership                  514\nPurpose                         514\nMonthly Debt                      0\nYears of Credit History           0\nMonths since last delinquent      0\nNumber of Open Accounts           0\nNumber of Credit Problems         0\nCurrent Credit Balance            0\nMaximum Open Credit               0\nBankruptcies                      0\nTax Liens                         0\ndtype: int64"
     },
     "execution_count": 66,
     "metadata": {},
     "output_type": "execute_result"
    }
   ],
   "source": [
    "df['Monthly Debt'].fillna(df['Monthly Debt'].median(),inplace=True)\n",
    "df['Years of Credit History'].fillna(df['Years of Credit History'].median(),inplace=True)\n",
    "df.isnull().sum()\n",
    "\n"
   ],
   "metadata": {
    "collapsed": false,
    "pycharm": {
     "name": "#%%\n"
    }
   }
  },
  {
   "cell_type": "code",
   "execution_count": 67,
   "outputs": [],
   "source": [
    "df2 = df\n"
   ],
   "metadata": {
    "collapsed": false,
    "pycharm": {
     "name": "#%%\n"
    }
   }
  },
  {
   "cell_type": "code",
   "execution_count": 68,
   "outputs": [
    {
     "data": {
      "text/plain": "Loan ID                         0\nCustomer ID                     0\nLoan Status                     0\nCurrent Loan Amount             0\nTerm                            0\nCredit Score                    0\nAnnual Income                   0\nYears in current job            0\nHome Ownership                  0\nPurpose                         0\nMonthly Debt                    0\nYears of Credit History         0\nMonths since last delinquent    0\nNumber of Open Accounts         0\nNumber of Credit Problems       0\nCurrent Credit Balance          0\nMaximum Open Credit             0\nBankruptcies                    0\nTax Liens                       0\ndtype: int64"
     },
     "execution_count": 68,
     "metadata": {},
     "output_type": "execute_result"
    }
   ],
   "source": [
    "new_data = df2.dropna(axis = 0, how ='any')\n",
    "new_data.isnull().sum()\n"
   ],
   "metadata": {
    "collapsed": false,
    "pycharm": {
     "name": "#%%\n"
    }
   }
  },
  {
   "cell_type": "code",
   "execution_count": 69,
   "outputs": [
    {
     "name": "stdout",
     "output_type": "stream",
     "text": [
      "<class 'pandas.core.frame.DataFrame'>\n",
      "RangeIndex: 100514 entries, 0 to 100513\n",
      "Data columns (total 17 columns):\n",
      " #   Column                        Non-Null Count   Dtype  \n",
      "---  ------                        --------------   -----  \n",
      " 0   Loan Status                   100000 non-null  object \n",
      " 1   Current Loan Amount           100514 non-null  float64\n",
      " 2   Term                          100000 non-null  object \n",
      " 3   Credit Score                  100514 non-null  float64\n",
      " 4   Annual Income                 100514 non-null  float64\n",
      " 5   Years in current job          100514 non-null  object \n",
      " 6   Home Ownership                100000 non-null  object \n",
      " 7   Purpose                       100000 non-null  object \n",
      " 8   Monthly Debt                  100514 non-null  float64\n",
      " 9   Years of Credit History       100514 non-null  float64\n",
      " 10  Months since last delinquent  100514 non-null  float64\n",
      " 11  Number of Open Accounts       100514 non-null  float64\n",
      " 12  Number of Credit Problems     100514 non-null  float64\n",
      " 13  Current Credit Balance        100514 non-null  float64\n",
      " 14  Maximum Open Credit           100514 non-null  float64\n",
      " 15  Bankruptcies                  100514 non-null  float64\n",
      " 16  Tax Liens                     100514 non-null  float64\n",
      "dtypes: float64(12), object(5)\n",
      "memory usage: 13.0+ MB\n"
     ]
    }
   ],
   "source": [
    "del df2['Loan ID']\n",
    "del df2['Customer ID']\n",
    "df2.info()"
   ],
   "metadata": {
    "collapsed": false,
    "pycharm": {
     "name": "#%%\n"
    }
   }
  },
  {
   "cell_type": "code",
   "execution_count": 70,
   "outputs": [
    {
     "name": "stdout",
     "output_type": "stream",
     "text": [
      "<class 'pandas.core.frame.DataFrame'>\n",
      "RangeIndex: 100514 entries, 0 to 100513\n",
      "Data columns (total 13 columns):\n",
      " #   Column                        Non-Null Count   Dtype  \n",
      "---  ------                        --------------   -----  \n",
      " 0   Loan Status                   100000 non-null  object \n",
      " 1   Current Loan Amount           100514 non-null  float64\n",
      " 2   Credit Score                  100514 non-null  float64\n",
      " 3   Annual Income                 100514 non-null  float64\n",
      " 4   Monthly Debt                  100514 non-null  float64\n",
      " 5   Years of Credit History       100514 non-null  float64\n",
      " 6   Months since last delinquent  100514 non-null  float64\n",
      " 7   Number of Open Accounts       100514 non-null  float64\n",
      " 8   Number of Credit Problems     100514 non-null  float64\n",
      " 9   Current Credit Balance        100514 non-null  float64\n",
      " 10  Maximum Open Credit           100514 non-null  float64\n",
      " 11  Bankruptcies                  100514 non-null  float64\n",
      " 12  Tax Liens                     100514 non-null  float64\n",
      "dtypes: float64(12), object(1)\n",
      "memory usage: 10.0+ MB\n"
     ]
    }
   ],
   "source": [
    "del df2['Term']\n",
    "del df2['Years in current job']\n",
    "del df2['Home Ownership']\n",
    "del df2['Purpose']\n",
    "df2.info()\n"
   ],
   "metadata": {
    "collapsed": false,
    "pycharm": {
     "name": "#%%\n"
    }
   }
  },
  {
   "cell_type": "code",
   "execution_count": 71,
   "outputs": [],
   "source": [
    "df2 = df2[df2['Loan Status'].notna()]\n",
    "df2.isnull().sum()\n",
    "df2.to_csv('clean_input_only_num.csv')"
   ],
   "metadata": {
    "collapsed": false,
    "pycharm": {
     "name": "#%%\n"
    }
   }
  },
  {
   "cell_type": "code",
   "execution_count": 72,
   "outputs": [
    {
     "name": "stdout",
     "output_type": "stream",
     "text": [
      "<class 'pandas.core.frame.DataFrame'>\n",
      "Int64Index: 100000 entries, 0 to 99999\n",
      "Data columns (total 13 columns):\n",
      " #   Column                        Non-Null Count   Dtype  \n",
      "---  ------                        --------------   -----  \n",
      " 0   Loan Status                   100000 non-null  object \n",
      " 1   Current Loan Amount           100000 non-null  float64\n",
      " 2   Credit Score                  100000 non-null  float64\n",
      " 3   Annual Income                 100000 non-null  float64\n",
      " 4   Monthly Debt                  100000 non-null  float64\n",
      " 5   Years of Credit History       100000 non-null  float64\n",
      " 6   Months since last delinquent  100000 non-null  float64\n",
      " 7   Number of Open Accounts       100000 non-null  float64\n",
      " 8   Number of Credit Problems     100000 non-null  float64\n",
      " 9   Current Credit Balance        100000 non-null  float64\n",
      " 10  Maximum Open Credit           100000 non-null  float64\n",
      " 11  Bankruptcies                  100000 non-null  float64\n",
      " 12  Tax Liens                     100000 non-null  float64\n",
      "dtypes: float64(12), object(1)\n",
      "memory usage: 10.7+ MB\n"
     ]
    }
   ],
   "source": [
    "df2.info()\n"
   ],
   "metadata": {
    "collapsed": false,
    "pycharm": {
     "name": "#%%\n"
    }
   }
  }
 ],
 "metadata": {
  "kernelspec": {
   "display_name": "Python 3",
   "language": "python",
   "name": "python3"
  },
  "language_info": {
   "codemirror_mode": {
    "name": "ipython",
    "version": 2
   },
   "file_extension": ".py",
   "mimetype": "text/x-python",
   "name": "python",
   "nbconvert_exporter": "python",
   "pygments_lexer": "ipython2",
   "version": "2.7.6"
  }
 },
 "nbformat": 4,
 "nbformat_minor": 0
}