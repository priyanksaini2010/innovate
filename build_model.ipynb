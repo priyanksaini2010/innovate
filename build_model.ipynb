{
 "cells": [
  {
   "cell_type": "code",
   "execution_count": 14,
   "metadata": {
    "collapsed": true
   },
   "outputs": [],
   "source": [
    "import numpy as np\n",
    "import pandas as pd\n",
    "from xgboost import XGBClassifier\n",
    "\n",
    "#Machine Learning Packages\n",
    "from sklearn.linear_model import LogisticRegression\n",
    "from sklearn.neighbors import KNeighborsClassifier\n",
    "from sklearn.tree import DecisionTreeClassifier\n",
    "from sklearn.ensemble import RandomForestClassifier\n",
    "from sklearn.ensemble import GradientBoostingClassifier\n",
    "from sklearn.ensemble import AdaBoostClassifier\n",
    "from sklearn.neural_network import MLPClassifier\n",
    "\n",
    "\n",
    "#Model Selection/Assessment Packages\n",
    "from imblearn.metrics import classification_report_imbalanced\n",
    "from sklearn.metrics import precision_score, recall_score, f1_score, roc_auc_score, accuracy_score\n",
    "from sklearn.metrics import classification_report, precision_recall_curve, confusion_matrix, auc\n",
    "from sklearn.metrics import average_precision_score\n",
    "from sklearn.model_selection import KFold, StratifiedKFold\n",
    "from sklearn.model_selection import train_test_split\n",
    "from sklearn.model_selection import GridSearchCV\n",
    "\n",
    "#Other Packages\n",
    "from imblearn.datasets import fetch_datasets\n",
    "from sklearn.pipeline import make_pipeline\n",
    "from imblearn.pipeline import make_pipeline as imbalanced_make_pipeline\n",
    "from imblearn.over_sampling import SMOTE\n",
    "from imblearn.under_sampling import NearMiss\n",
    "\n",
    "import warnings\n"
   ]
  },
  {
   "cell_type": "code",
   "execution_count": 15,
   "outputs": [
    {
     "data": {
      "text/plain": "       Unnamed: 0  Loan Status  Current Loan Amount  Credit Score  \\\n2916         2916            0             660462.0         648.0   \n92184       92184            1             615252.0         707.0   \n\n       Annual Income  Monthly Debt  Years of Credit History  \\\n2916       1378469.0      28373.27                     32.2   \n92184      2372150.0      12532.97                     10.9   \n\n       Months since last delinquent  Number of Open Accounts  \\\n2916                           32.0                     12.0   \n92184                          32.0                     11.0   \n\n       Number of Credit Problems  Current Credit Balance  Maximum Open Credit  \\\n2916                         0.0                744249.0             911922.0   \n92184                        0.0                201020.0             367136.0   \n\n       Bankruptcies  Tax Liens  \n2916            0.0        0.0  \n92184           0.0        0.0  ",
      "text/html": "<div>\n<style scoped>\n    .dataframe tbody tr th:only-of-type {\n        vertical-align: middle;\n    }\n\n    .dataframe tbody tr th {\n        vertical-align: top;\n    }\n\n    .dataframe thead th {\n        text-align: right;\n    }\n</style>\n<table border=\"1\" class=\"dataframe\">\n  <thead>\n    <tr style=\"text-align: right;\">\n      <th></th>\n      <th>Unnamed: 0</th>\n      <th>Loan Status</th>\n      <th>Current Loan Amount</th>\n      <th>Credit Score</th>\n      <th>Annual Income</th>\n      <th>Monthly Debt</th>\n      <th>Years of Credit History</th>\n      <th>Months since last delinquent</th>\n      <th>Number of Open Accounts</th>\n      <th>Number of Credit Problems</th>\n      <th>Current Credit Balance</th>\n      <th>Maximum Open Credit</th>\n      <th>Bankruptcies</th>\n      <th>Tax Liens</th>\n    </tr>\n  </thead>\n  <tbody>\n    <tr>\n      <th>2916</th>\n      <td>2916</td>\n      <td>0</td>\n      <td>660462.0</td>\n      <td>648.0</td>\n      <td>1378469.0</td>\n      <td>28373.27</td>\n      <td>32.2</td>\n      <td>32.0</td>\n      <td>12.0</td>\n      <td>0.0</td>\n      <td>744249.0</td>\n      <td>911922.0</td>\n      <td>0.0</td>\n      <td>0.0</td>\n    </tr>\n    <tr>\n      <th>92184</th>\n      <td>92184</td>\n      <td>1</td>\n      <td>615252.0</td>\n      <td>707.0</td>\n      <td>2372150.0</td>\n      <td>12532.97</td>\n      <td>10.9</td>\n      <td>32.0</td>\n      <td>11.0</td>\n      <td>0.0</td>\n      <td>201020.0</td>\n      <td>367136.0</td>\n      <td>0.0</td>\n      <td>0.0</td>\n    </tr>\n  </tbody>\n</table>\n</div>"
     },
     "execution_count": 15,
     "metadata": {},
     "output_type": "execute_result"
    }
   ],
   "source": [
    "train = pd.read_csv('clean_input_only_num.csv')\n",
    "train_data, test_data = np.split(train.sample(frac=1, random_state=1729), [int(0.7 * len(train))])\n",
    "train_data.head(2)\n",
    "test_data.head(2)\n"
   ],
   "metadata": {
    "collapsed": false,
    "pycharm": {
     "name": "#%%\n"
    }
   }
  },
  {
   "cell_type": "code",
   "execution_count": 16,
   "outputs": [],
   "source": [
    "from imblearn.over_sampling import SMOTE"
   ],
   "metadata": {
    "collapsed": false,
    "pycharm": {
     "name": "#%%\n"
    }
   }
  },
  {
   "cell_type": "code",
   "execution_count": 17,
   "outputs": [],
   "source": [
    "y_train = train_data['Loan Status']\n",
    "y_test = test_data['Loan Status']\n",
    "X_train = train_data.drop(['Loan Status'], axis=1)\n",
    "X_test = test_data.drop(['Loan Status'], axis=1)"
   ],
   "metadata": {
    "collapsed": false,
    "pycharm": {
     "name": "#%%\n"
    }
   }
  },
  {
   "cell_type": "code",
   "execution_count": 18,
   "outputs": [
    {
     "data": {
      "text/plain": "XGBClassifier(base_score=0.5, booster='gbtree', colsample_bylevel=1,\n              colsample_bynode=1, colsample_bytree=1, gamma=0, gpu_id=-1,\n              importance_type='gain', interaction_constraints='',\n              learning_rate=0.300000012, max_delta_step=0, max_depth=6,\n              min_child_weight=1, missing=nan, monotone_constraints='()',\n              n_estimators=100, n_jobs=0, num_parallel_tree=1, random_state=0,\n              reg_alpha=0, reg_lambda=1, scale_pos_weight=1, subsample=1,\n              tree_method='exact', validate_parameters=1, verbosity=None)"
     },
     "execution_count": 18,
     "metadata": {},
     "output_type": "execute_result"
    }
   ],
   "source": [
    "model = XGBClassifier()\n",
    "model.fit(X_train, y_train)"
   ],
   "metadata": {
    "collapsed": false,
    "pycharm": {
     "name": "#%%\n"
    }
   }
  },
  {
   "cell_type": "code",
   "execution_count": 20,
   "outputs": [
    {
     "name": "stdout",
     "output_type": "stream",
     "text": [
      "Accuracy: 83.47%\n"
     ]
    }
   ],
   "source": [
    "\n",
    "y_pred = model.predict(X_train)\n",
    "predictions = [round(value) for value in y_pred]\n",
    "\n",
    "accuracy = accuracy_score(y_train, predictions)\n",
    "print(\"Accuracy: %.2f%%\" % (accuracy * 100.0))\n"
   ],
   "metadata": {
    "collapsed": false,
    "pycharm": {
     "name": "#%%\n"
    }
   }
  },
  {
   "cell_type": "code",
   "execution_count": 21,
   "outputs": [
    {
     "data": {
      "text/plain": "      Unnamed: 0  Loan Status  Current Loan Amount  Credit Score  \\\n2916        2916            0             660462.0         648.0   \n\n      Annual Income  Monthly Debt  Years of Credit History  \\\n2916      1378469.0      28373.27                     32.2   \n\n      Months since last delinquent  Number of Open Accounts  \\\n2916                          32.0                     12.0   \n\n      Number of Credit Problems  Current Credit Balance  Maximum Open Credit  \\\n2916                        0.0                744249.0             911922.0   \n\n      Bankruptcies  Tax Liens  \n2916           0.0        0.0  ",
      "text/html": "<div>\n<style scoped>\n    .dataframe tbody tr th:only-of-type {\n        vertical-align: middle;\n    }\n\n    .dataframe tbody tr th {\n        vertical-align: top;\n    }\n\n    .dataframe thead th {\n        text-align: right;\n    }\n</style>\n<table border=\"1\" class=\"dataframe\">\n  <thead>\n    <tr style=\"text-align: right;\">\n      <th></th>\n      <th>Unnamed: 0</th>\n      <th>Loan Status</th>\n      <th>Current Loan Amount</th>\n      <th>Credit Score</th>\n      <th>Annual Income</th>\n      <th>Monthly Debt</th>\n      <th>Years of Credit History</th>\n      <th>Months since last delinquent</th>\n      <th>Number of Open Accounts</th>\n      <th>Number of Credit Problems</th>\n      <th>Current Credit Balance</th>\n      <th>Maximum Open Credit</th>\n      <th>Bankruptcies</th>\n      <th>Tax Liens</th>\n    </tr>\n  </thead>\n  <tbody>\n    <tr>\n      <th>2916</th>\n      <td>2916</td>\n      <td>0</td>\n      <td>660462.0</td>\n      <td>648.0</td>\n      <td>1378469.0</td>\n      <td>28373.27</td>\n      <td>32.2</td>\n      <td>32.0</td>\n      <td>12.0</td>\n      <td>0.0</td>\n      <td>744249.0</td>\n      <td>911922.0</td>\n      <td>0.0</td>\n      <td>0.0</td>\n    </tr>\n  </tbody>\n</table>\n</div>"
     },
     "execution_count": 21,
     "metadata": {},
     "output_type": "execute_result"
    }
   ],
   "source": [
    "# train['Loan Status'].unique()\n",
    "test_data.head(1)\n"
   ],
   "metadata": {
    "collapsed": false,
    "pycharm": {
     "name": "#%%\n"
    }
   }
  },
  {
   "cell_type": "code",
   "execution_count": 23,
   "outputs": [
    {
     "name": "stdout",
     "output_type": "stream",
     "text": [
      "       Unnamed: 0  Current Loan Amount  Credit Score  Annual Income  \\\n",
      "68037       68037              89936.0         725.0       483151.0   \n",
      "344           344             447656.0         732.0      1585113.0   \n",
      "68833       68833             132506.0         745.0      2050271.0   \n",
      "69327       69327             350636.0         737.0      1116630.0   \n",
      "22061       22061              67628.0         724.0      1174162.0   \n",
      "...           ...                  ...           ...            ...   \n",
      "60043       60043              61600.0         741.0      1187614.0   \n",
      "75178       75178             112728.0         750.0       607449.0   \n",
      "39467       39467             262900.0         722.0      1135212.0   \n",
      "79395       79395             111914.0         724.0      1174162.0   \n",
      "44659       44659             230428.0         724.0      1174162.0   \n",
      "\n",
      "       Monthly Debt  Years of Credit History  Months since last delinquent  \\\n",
      "68037       3301.63                     28.0                          32.0   \n",
      "344        20342.16                     17.4                          32.0   \n",
      "68833      41859.47                     23.1                          51.0   \n",
      "69327      12003.82                     15.2                          32.0   \n",
      "22061      12601.75                     16.0                          52.0   \n",
      "...             ...                      ...                           ...   \n",
      "60043       9936.43                     13.8                          32.0   \n",
      "75178      10225.23                     19.3                          32.0   \n",
      "39467      14284.77                     17.2                          78.0   \n",
      "79395      10469.76                     12.2                          32.0   \n",
      "44659      23358.98                     17.1                          32.0   \n",
      "\n",
      "       Number of Open Accounts  Number of Credit Problems  \\\n",
      "68037                      6.0                        0.0   \n",
      "344                        8.0                        0.0   \n",
      "68833                     10.0                        0.0   \n",
      "69327                      9.0                        0.0   \n",
      "22061                     10.0                        0.0   \n",
      "...                        ...                        ...   \n",
      "60043                     10.0                        0.0   \n",
      "75178                      8.0                        0.0   \n",
      "39467                      5.0                        0.0   \n",
      "79395                     11.0                        0.0   \n",
      "44659                      9.0                        0.0   \n",
      "\n",
      "       Current Credit Balance  Maximum Open Credit  Bankruptcies  Tax Liens  \n",
      "68037                111492.0             130394.0           0.0        0.0  \n",
      "344                  309054.0             503316.0           0.0        0.0  \n",
      "68833                878636.0            1145694.0           0.0        0.0  \n",
      "69327                440420.0             578842.0           0.0        0.0  \n",
      "22061                226423.0             394240.0           0.0        0.0  \n",
      "...                       ...                  ...           ...        ...  \n",
      "60043                 39672.0              55022.0           0.0        0.0  \n",
      "75178                146832.0             480282.0           0.0        0.0  \n",
      "39467                129523.0             181786.0           0.0        0.0  \n",
      "79395                 74689.0             210408.0           0.0        0.0  \n",
      "44659                569525.0             731104.0           0.0        0.0  \n",
      "\n",
      "[70000 rows x 13 columns]\n"
     ]
    }
   ],
   "source": [
    "print(X_train)"
   ],
   "metadata": {
    "collapsed": false,
    "pycharm": {
     "name": "#%%\n"
    }
   }
  },
  {
   "cell_type": "code",
   "execution_count": 26,
   "outputs": [
    {
     "data": {
      "text/plain": "['model_columns.pkl']"
     },
     "execution_count": 26,
     "metadata": {},
     "output_type": "execute_result"
    }
   ],
   "source": [
    "import joblib\n",
    "\n",
    "joblib.dump(model,'model.pkl')\n",
    "\n",
    "xg = joblib.load('model.pkl')\n",
    "\n",
    "model_columns =  list(X_train.columns)\n",
    "\n",
    "joblib.dump(model_columns, 'model_columns.pkl')"
   ],
   "metadata": {
    "collapsed": false,
    "pycharm": {
     "name": "#%%\n"
    }
   }
  }
 ],
 "metadata": {
  "kernelspec": {
   "display_name": "Python 3",
   "language": "python",
   "name": "python3"
  },
  "language_info": {
   "codemirror_mode": {
    "name": "ipython",
    "version": 2
   },
   "file_extension": ".py",
   "mimetype": "text/x-python",
   "name": "python",
   "nbconvert_exporter": "python",
   "pygments_lexer": "ipython2",
   "version": "2.7.6"
  }
 },
 "nbformat": 4,
 "nbformat_minor": 0
}